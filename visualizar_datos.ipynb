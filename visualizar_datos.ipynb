{
 "cells": [
  {
   "cell_type": "markdown",
   "metadata": {},
   "source": [
    "## Librerias y tokenizer."
   ]
  },
  {
   "cell_type": "code",
   "execution_count": 1,
   "metadata": {},
   "outputs": [],
   "source": [
    "import pandas as pd\n",
    "import numpy as np\n",
    "import pickle\n",
    "import nltk\n",
    "nltk.download('punkt')\n",
    "from nltk.corpus import stopwords\n",
    "from nltk.stem.snowball import SnowballStemmer\n",
    "from nltk.stem import WordNetLemmatizer\n"
   ]
  },
  {
   "cell_type": "code",
   "execution_count": null,
   "metadata": {},
   "outputs": [],
   "source": [
    "\n",
    "# Descargar recursos adicionales si no los tienes instalados\n",
    "# nltk.download('punkt')\n",
    "# nltk.download('stopwords')\n",
    "nltk.download('wordnet')\n",
    "\n",
    "stemmer = SnowballStemmer('spanish')\n",
    "lemmatizer = WordNetLemmatizer()\n",
    "\n",
    "\n",
    "def _tokenizer(s):\n",
    "    stemmer = SnowballStemmer('spanish')\n",
    "    lemmatizer = WordNetLemmatizer()\n",
    "    s = nltk.word_tokenize(s)\n",
    "    stop_words = set(stopwords.words('spanish'))\n",
    "    s = [token.lower() for token in s if token.lower() not in stop_words]\n",
    "    s = [stemmer.stem(item) for item in s]\n",
    "    s = [lemmatizer.lemmatize(token) for token in s]\n",
    "    return s"
   ]
  },
  {
   "cell_type": "code",
   "execution_count": 65,
   "metadata": {},
   "outputs": [
    {
     "data": {
      "text/plain": [
       "['hol',\n",
       " 'com',\n",
       " 'quier',\n",
       " 'estudi',\n",
       " 'comput',\n",
       " 'celex',\n",
       " 'ingle',\n",
       " 'ayudam',\n",
       " 'cseuami',\n",
       " 'fisic']"
      ]
     },
     "execution_count": 65,
     "metadata": {},
     "output_type": "execute_result"
    }
   ],
   "source": [
    "_tokenizer(\"word>stop>stem\", \"Hola, cómo estas? quiero estudiar computación en celex e inglées. Ayudame con cseuami. fisic\")"
   ]
  },
  {
   "cell_type": "markdown",
   "metadata": {},
   "source": [
    "## Cargar modelo"
   ]
  },
  {
   "cell_type": "markdown",
   "metadata": {},
   "source": [
    "### Variables."
   ]
  },
  {
   "cell_type": "code",
   "execution_count": 162,
   "metadata": {},
   "outputs": [],
   "source": [
    "datos_path = \"data/textos_2023_08_0111_50_30.json\"\n",
    "modelo_path = \"model_2023_08_0111_50_30_4.pickle\""
   ]
  },
  {
   "cell_type": "code",
   "execution_count": 163,
   "metadata": {},
   "outputs": [],
   "source": [
    "# Es importante importar para usar el modelo\n",
    "from tfidf import TFIDF\n",
    "\n",
    "with open(modelo_path, \"rb\") as f:\n",
    "    model5:TFIDF = pickle.load(f)"
   ]
  },
  {
   "cell_type": "markdown",
   "metadata": {},
   "source": [
    "## Cargar datos"
   ]
  },
  {
   "cell_type": "code",
   "execution_count": 157,
   "metadata": {},
   "outputs": [
    {
     "name": "stdout",
     "output_type": "stream",
     "text": [
      "2061\n",
      "Index(['document', 'metadata'], dtype='object')\n"
     ]
    }
   ],
   "source": [
    "# df = pd.read_json('data/textos_2023_07_3000_48_04.json')\n",
    "df = pd.read_json(datos_path)\n",
    "\n",
    "\n",
    "print(len(df))\n",
    "print(df.keys())\n"
   ]
  },
  {
   "cell_type": "markdown",
   "metadata": {},
   "source": [
    "### Analizar datos."
   ]
  },
  {
   "cell_type": "code",
   "execution_count": 166,
   "metadata": {},
   "outputs": [
    {
     "name": "stdout",
     "output_type": "stream",
     "text": [
      "https://cbi.izt.uam.mx/index.php/secretaria-academica/dictamenes-de-concursos-de-oposicion\n",
      "Información sobre el dataset:\n",
      "\n",
      "Tamaño del dataset: 2061\n",
      "\n",
      "\n",
      "Longitudes de los textos:\n",
      "\n",
      "Medidas estadísticas:\n",
      "Promedio: 4369.747210092189\n",
      "Mediana: 2262.0\n",
      "Máximo: 49423\n"
     ]
    }
   ],
   "source": [
    "df.document.map(len).min()\n",
    "urls = df[\"metadata\"].apply(lambda x: x.get(\"url\"))\n",
    "keywords = df[\"metadata\"].apply(lambda x: x.get(\"keywords\"))\n",
    "\n",
    "s_length = df['document'].str.len()\n",
    "bool_mask = (s_length == s_length.min())\n",
    "# print(df['document'][245])\n",
    "print(urls[245])\n",
    "\n",
    "# Calcular la longitud de cada texto y agregarla como una nueva columna\n",
    "df['longitud'] = df['document'].apply(len)\n",
    "\n",
    "# Calcular medidas estadísticas sobre la longitud de los textos\n",
    "promedio_longitud = df['longitud'].mean()\n",
    "mediana_longitud = df['longitud'].median()\n",
    "maximo_longitud = df['longitud'].max()\n",
    "\n",
    "# Imprimir los resultados\n",
    "\n",
    "print(\"Información sobre el dataset:\")\n",
    "print(\"\\nTamaño del dataset:\",len(df))\n",
    "print(\"\\n\\nLongitudes de los textos:\")\n",
    "# print(df)\n",
    "print(\"\\nMedidas estadísticas:\")\n",
    "print(\"Promedio:\", promedio_longitud)\n",
    "print(\"Mediana:\", mediana_longitud)\n",
    "print(\"Máximo:\", maximo_longitud)"
   ]
  },
  {
   "cell_type": "code",
   "execution_count": 168,
   "metadata": {},
   "outputs": [
    {
     "data": {
      "text/plain": [
       "'https://cbi.izt.uam.mx/coddaa/index.php/compu-pemc#plan-de-estudios'"
      ]
     },
     "execution_count": 168,
     "metadata": {},
     "output_type": "execute_result"
    }
   ],
   "source": [
    "urls[145]"
   ]
  },
  {
   "cell_type": "markdown",
   "metadata": {},
   "source": [
    "## Consultar modelo."
   ]
  },
  {
   "cell_type": "code",
   "execution_count": 165,
   "metadata": {},
   "outputs": [
    {
     "name": "stdout",
     "output_type": "stream",
     "text": [
      "{831: 0.1717383145640018, 1437: 0.1717383145640018, 1093: 0.1717383145640018, 1647: 0.1717383145640018, 1557: 0.1717383145640018, 1256: 0.1717383145640018, 1317: 0.1717383145640018, 1199: 0.1717383145640018, 4: 0.1712547665792782, 145: 0.1712547665792782}\n",
      "['https://cbi.izt.uam.mx/coddaa/index.php/quim-pemc', 'https://cbi.izt.uam.mx/coddaa/index.php/quim-pemc#cbs', 'https://cbi.izt.uam.mx/coddaa/index.php/quim-pemc#csh', 'https://cbi.izt.uam.mx/coddaa/index.php/quim-pemc#cbi', 'https://cbi.izt.uam.mx/coddaa/index.php/quim-pemc#seleccion-de-optativas', 'https://cbi.izt.uam.mx/coddaa/index.php/quim-pemc#plan-de-estudios', 'https://cbi.izt.uam.mx/coddaa/index.php/quim-pemc#mapa-curricular', 'https://cbi.izt.uam.mx/coddaa/index.php/quim-pemc#optativas-extradivisionales', 'https://cbi.izt.uam.mx/coddaa/index.php/compu-pemc', 'https://cbi.izt.uam.mx/coddaa/index.php/compu-pemc#plan-de-estudios']\n",
      "57528\n",
      "Fueron eliminadas las stop words\n"
     ]
    },
    {
     "ename": "TypeError",
     "evalue": "'NoneType' object is not iterable",
     "output_type": "error",
     "traceback": [
      "\u001b[1;31m---------------------------------------------------------------------------\u001b[0m",
      "\u001b[1;31mTypeError\u001b[0m                                 Traceback (most recent call last)",
      "Cell \u001b[1;32mIn[165], line 8\u001b[0m\n\u001b[0;32m      6\u001b[0m \u001b[39mprint\u001b[39m(\u001b[39mlen\u001b[39m(model5\u001b[39m.\u001b[39mget_vocabulary()))\n\u001b[0;32m      7\u001b[0m model_stop_words \u001b[39m=\u001b[39m model5\u001b[39m.\u001b[39mget_stop_words()\n\u001b[1;32m----> 8\u001b[0m \u001b[39mprint\u001b[39m(\u001b[39mlist\u001b[39;49m(model_stop_words)[:\u001b[39m100\u001b[39m])\n\u001b[0;32m      9\u001b[0m \u001b[39mprint\u001b[39m(\u001b[39m\"\u001b[39m\u001b[39mcsuami\u001b[39m\u001b[39m\"\u001b[39m \u001b[39min\u001b[39;00m model_stop_words)\n",
      "\u001b[1;31mTypeError\u001b[0m: 'NoneType' object is not iterable"
     ]
    }
   ],
   "source": [
    "query = \"Plan de estudios en computación\"\n",
    "indices = model5.query_documents(query)\n",
    "print(indices)\n",
    "documents_most_similar = [df[\"metadata\"].apply(lambda x: x.get(\"url\"))[idx] for idx in indices]\n",
    "print(documents_most_similar)\n",
    "print(len(model5.get_vocabulary()))\n",
    "model_stop_words = model5.get_stop_words()\n",
    "print(list(model_stop_words)[:100])\n"
   ]
  },
  {
   "cell_type": "markdown",
   "metadata": {},
   "source": [
    "## Buscar página web"
   ]
  },
  {
   "cell_type": "code",
   "execution_count": 146,
   "metadata": {},
   "outputs": [
    {
     "name": "stdout",
     "output_type": "stream",
     "text": [
      "2051\n",
      "https://cbi.izt.uam.mx/coddaa/index.php/fisica-pe\n",
      "Plan de Estudios y Mapa Curricular\n",
      "Plan de Estudios y Mapa Curricular\n",
      "Convocatorias\n",
      "Plan de Estudios y Mapa Curricular\n",
      "Plan de Estudios\n",
      "Plan de Estudios\n",
      "Mapa Curricular\n",
      "Mapa Curricular\n",
      "Licenciatura en Física\n",
      "1\n",
      "Universidad Autónoma Metropolitana - Unidad Iztapalapa\n",
      "\n",
      "plan, estudio, mapa, curricular, convocatoria, licenciatura, física, universidad, autónoma, metropolitana, unidad, iztapalapa\n",
      "['plan', 'estudi', 'map', 'curricul', 'plan', 'estudi', 'map', 'curricul', 'convocatori', 'plan', 'estudi', 'map', 'curricul', 'plan', 'estudi', 'plan', 'estudi', 'map', 'curricul', 'map', 'curricul', 'licenciatur', 'fisic', '1', 'univers', 'autonom', 'metropolitan', '-', 'unid', 'iztapalap']\n"
     ]
    }
   ],
   "source": [
    "import re\n",
    "urls = df[\"metadata\"].apply(lambda x: x.get(\"url\"))\n",
    "keywords = df[\"metadata\"].apply(lambda x: x.get(\"keywords\"))\n",
    "# patron = re.compile()\n",
    "# if \"https://www.cseuami.org/index.php/cambio-carrera\" in df[\"metadata\"].apply(lambda x: x.get(\"url\")):\n",
    "search_url = \"https://cbi.izt.uam.mx/coddaa/index.php/fisica-pe\"\n",
    "try:\n",
    "    index = [i for i, x in enumerate((urls.values==search_url)) if x][0]\n",
    "\n",
    "    print(index)\n",
    "    print(urls[index])\n",
    "    print((df[\"document\"][index]))\n",
    "    print(keywords[index])\n",
    "    print(_tokenizer(df[\"document\"][index]))\n",
    "\n",
    "except:\n",
    "    print(\"No existe esa pagina web en los datos.\")"
   ]
  },
  {
   "cell_type": "markdown",
   "metadata": {},
   "source": [
    "## Probar extractor de páginas web."
   ]
  },
  {
   "cell_type": "code",
   "execution_count": 92,
   "metadata": {},
   "outputs": [],
   "source": [
    "    \n",
    "obligatorios = ['uam']\n",
    "# https://www.cseuami.org/index.php/cambio-carrera\n",
    "incluidos = [\n",
    "    '.izt',\n",
    "    'uami',\n",
    "    'iztapalapa'\n",
    "]\n",
    "excluidos = [\n",
    "    'whatsapp',\n",
    "    'facebook',\n",
    "    'instagram',\n",
    "    'twitter',\n",
    "]"
   ]
  },
  {
   "cell_type": "code",
   "execution_count": 93,
   "metadata": {},
   "outputs": [],
   "source": [
    "import validators\n",
    "from urllib.parse import urlparse, urljoin\n",
    "from bs4 import BeautifulSoup\n",
    "import requests"
   ]
  },
  {
   "cell_type": "code",
   "execution_count": 90,
   "metadata": {},
   "outputs": [],
   "source": [
    "def generador_patrones():\n",
    "    # Obligatorios\n",
    "    cadena = r\"^\"\n",
    "    for element in obligatorios:\n",
    "        cadena += (r\"(?=.*\" + element + r\")\")\n",
    "        \n",
    "    # Exclusión\n",
    "    for element in excluidos:\n",
    "        cadena += (r\"(?!.*\" + element + r\")\")\n",
    "    \n",
    "    # Opcionales\n",
    "    cadena += r\"(?=.*(?:\"\n",
    "    for element in incluidos:\n",
    "        cadena += (element+r\"|\")\n",
    "    return re.compile(cadena[:-1]+r\")).*$\")"
   ]
  },
  {
   "cell_type": "code",
   "execution_count": 43,
   "metadata": {},
   "outputs": [
    {
     "name": "stdout",
     "output_type": "stream",
     "text": [
      "True\n"
     ]
    }
   ],
   "source": [
    "pattern = re.compile(generador_patrones())\n",
    "result = bool(pattern.match(\"https://cbi.izt.uam.mx/coddaa/index.php/mate-pemc\"))\n",
    "print(result)"
   ]
  },
  {
   "cell_type": "code",
   "execution_count": 123,
   "metadata": {},
   "outputs": [
    {
     "name": "stdout",
     "output_type": "stream",
     "text": [
      "{'https://cbi.izt.uam.mx/coddaa/index.php/compu-desc', 'https://cbi.izt.uam.mx/coddaa/index.php/fisica-da', 'https://cbi.izt.uam.mx/coddaa/index.php/descripcion', 'https://cbi.izt.uam.mx/coddaa/index.php/iq-desc', 'https://cbi.izt.uam.mx/coddaa/index.php/fisica-asp', 'https://www.cseuami.org/index.php/proceso', 'https://cbi.izt.uam.mx/coddaa/index.php/ceremonias/egresados-enero-2023', 'https://cbi.izt.uam.mx/coddaa/index.php/ih-desc', 'https://cbi.izt.uam.mx/coddaa/index.php/ceremonias/entrega-de-reconocimientos-al-alumnado-regular', 'https://cbi.izt.uam.mx/coddaa/index.php/posgrado/energia-y-medio-ambiente', 'https://cbi.izt.uam.mx/coddaa/index.php/eventos/carlos-graef-2023', 'https://cbi.izt.uam.mx/coddaa/index.php/fisica-pe#plan-de-estudios', 'https://cbi.izt.uam.mx/coddaa/index.php/eventos/carlos-graef', 'https://cbi.izt.uam.mx/coddaa/index.php/ceremonias', 'https://iquizayan.uam.mx:8443/sae/izt/aewbf001.omuestraframes?mod=1', 'https://cbi.izt.uam.mx/coddaa/index.php/vinculacion/movilidad-estudiantil', 'https://cbi.izt.uam.mx/coddaa/index.php/posgrado/pquim', 'https://cbi.izt.uam.mx/coddaa/index.php/ie-desc', 'https://cbi.izt.uam.mx/coddaa/', 'https://cbi.izt.uam.mx/coddaa/index.php/posgrado/pib', 'https://cbi.izt.uam.mx/coddaa/index.php/eventos/carlos-graef-2020', 'https://cbi.izt.uam.mx/coddaa/index.php/home/quienes-somos', 'https://cbi.izt.uam.mx/coddaa/index.php/fisica-mt', 'https://cbi.izt.uam.mx/coddaa/index.php/terminales-fisica', 'https://cbi.izt.uam.mx/coddaa/index.php/posgrado/fisica', 'https://cbi.izt.uam.mx/coddaa/index.php/vinculacion/programa-de-vinculacion-profesional', 'https://cbi.izt.uam.mx/coddaa/index.php/alumnos/legislacion-universitaria', 'https://cbi.izt.uam.mx/coddaa/index.php/posgrado/fisica-medica', 'https://cbi.izt.uam.mx/coddaa/index.php/eventos/carlos-graef-2021', 'http://www.izt.uam.mx/', 'https://cbi.izt.uam.mx/coddaa/index.php/home/directorio', 'https://cbi.izt.uam.mx/coddaa/index.php/ene-desc', 'https://cbi.izt.uam.mx/coddaa/index.php/posgrado/ultimas-noticias', 'https://cbi.izt.uam.mx/coddaa/index.php/alumnos/tutorias', 'https://cbi.izt.uam.mx/coddaa/index.php/posgrado/matematicas-aplicadas-e-industriales', 'https://cbi.izt.uam.mx/coddaa/index.php/posgrado/matematicas', 'https://cbi.izt.uam.mx/coddaa/index.php/nuevo-ingreso', 'https://cbi.izt.uam.mx/coddaa/index.php/vinculacion/emprendimiento', 'https://cbi.izt.uam.mx/coddaa/index.php/eventos', 'https://cbi.izt.uam.mx/coddaa/index.php/fisica-pe', 'https://cbi.izt.uam.mx/coddaa/index.php/fisica-pe#mapa-curricular', 'https://cbi.izt.uam.mx/coddaa/index.php/programas-fisica', 'https://cbi.izt.uam.mx/coddaa/index.php', 'https://cbi.izt.uam.mx/coddaa/index.php/catm-desc', 'https://cbi.izt.uam.mx/coddaa/index.php/fisica-habilidades', 'https://cbi.izt.uam.mx/coddaa/index.php/eventos/carlos-graef-2022', 'https://cbi.izt.uam.mx/coddaa/index.php/quim-desc', 'https://cbi.izt.uam.mx/coddaa/index.php/mate-desc', 'https://cbi.izt.uam.mx/coddaa/index.php/fisica-desc', 'https://cbi.izt.uam.mx/coddaa/index.php/posgrado/ingenieria-quimica', 'http://ixtamati.uam.mx:8080/sae/izt/PAWBC005.oCONSULTA?CLAVE_CL=26&VERSION_CL=7', 'https://cbi.izt.uam.mx/coddaa/index.php/alumnos/tramites', 'https://cbi.izt.uam.mx/coddaa/index.php/posgrado/ciencias-y-tecnologias-de-la-informacion'}\n",
      "53\n"
     ]
    }
   ],
   "source": [
    "urls = set()\n",
    "base_url = \"https://cbi.izt.uam.mx/coddaa/index.php/fisica-pe\" # \"https://www.cseuami.org/index.php/cambio-carrera\"\n",
    "req = requests.get(base_url)\n",
    "soup = BeautifulSoup(req.content, 'html.parser')\n",
    "patron = generador_patrones()\n",
    "pattern = re.compile(patron)\n",
    "\n",
    "for link in soup.find_all('a', href=True):       \n",
    "    href = link.get('href')\n",
    "    parsed_href = urlparse(href)\n",
    "    # Verificar si el enlace es relativo\n",
    "    if not parsed_href.netloc:\n",
    "        # print(href) \n",
    "        url = urljoin(base_url, href)\n",
    "    else:\n",
    "        url = href\n",
    "    if bool(pattern.match(url)) and not url.endswith('.jpg') and not url.endswith('.png') and not url.endswith('.jpeg'):\n",
    "        urls.add(url)\n",
    "print(urls)\n",
    "print(len(urls))\n",
    "                "
   ]
  },
  {
   "cell_type": "code",
   "execution_count": 69,
   "metadata": {},
   "outputs": [
    {
     "name": "stdout",
     "output_type": "stream",
     "text": [
      "48 {'https://cbi.izt.uam.mx/coddaa/index.php/eventos/carlos-graef', 'https://www.cseuami.org/index.php/proceso', 'https://cbi.izt.uam.mx/coddaa/index.php/descripcion', 'https://cbi.izt.uam.mx/coddaa/index.php/ie-desc', 'https://cbi.izt.uam.mx/coddaa/index.php/compu-pemc', 'https://cbi.izt.uam.mx/coddaa/index.php/ceremonias/entrega-de-reconocimientos-al-alumnado-regular', 'https://cbi.izt.uam.mx/coddaa/index.php/nuevo-ingreso', 'https://cbi.izt.uam.mx/coddaa/index.php/fisica-desc', 'https://cbi.izt.uam.mx/coddaa/index.php/vinculacion/movilidad-estudiantil', 'https://cbi.izt.uam.mx/coddaa/index.php/catm-desc', 'https://cbi.izt.uam.mx/coddaa/index.php/eventos/carlos-graef-2023', 'https://cbi.izt.uam.mx/coddaa/index.php/mate-desc', 'https://cbi.izt.uam.mx/coddaa/index.php/quim-desc', 'https://cbi.izt.uam.mx/coddaa/index.php/eventos/carlos-graef-2022', 'https://cbi.izt.uam.mx/coddaa/index.php/compu-mt', 'https://cbi.izt.uam.mx/coddaa/index.php/posgrado/matematicas-aplicadas-e-industriales', 'https://cbi.izt.uam.mx/coddaa/index.php/alumnos/legislacion-universitaria', 'https://cbi.izt.uam.mx/coddaa/index.php/compu-da', 'https://cbi.izt.uam.mx/coddaa/index.php/posgrado/energia-y-medio-ambiente', 'https://cbi.izt.uam.mx/coddaa/index.php/vinculacion/programa-de-vinculacion-profesional', 'https://cbi.izt.uam.mx/coddaa/index.php/posgrado/ciencias-y-tecnologias-de-la-informacion', 'https://cbi.izt.uam.mx/coddaa/index.php/ceremonias/egresados-enero-2023', 'http://www.izt.uam.mx/', 'https://cbi.izt.uam.mx/coddaa/index.php/posgrado/fisica', 'https://cbi.izt.uam.mx/coddaa/index.php/alumnos/tutorias', 'https://cbi.izt.uam.mx/coddaa/index.php', 'https://cbi.izt.uam.mx/coddaa/index.php/posgrado/pib', 'http://ixtamati.uam.mx:8080/sae/izt/PAWBC005.oCONSULTA?CLAVE_CL=30&VERSION_CL=8', 'https://cbi.izt.uam.mx/coddaa/index.php/ene-desc', 'https://cbi.izt.uam.mx/coddaa/index.php/eventos/carlos-graef-2021', 'https://cbi.izt.uam.mx/coddaa/index.php/ih-desc', 'https://cbi.izt.uam.mx/coddaa/index.php/home/directorio', 'https://cbi.izt.uam.mx/coddaa/index.php/alumnos/tramites', 'https://cbi.izt.uam.mx/coddaa/index.php/home/quienes-somos', 'https://cbi.izt.uam.mx/coddaa/index.php/vinculacion/emprendimiento', 'https://cbi.izt.uam.mx/coddaa/index.php/iq-desc', 'https://cbi.izt.uam.mx/coddaa/', 'https://cbi.izt.uam.mx/coddaa/index.php/pueacom', 'https://iquizayan.uam.mx:8443/sae/izt/aewbf001.omuestraframes?mod=1', 'https://cbi.izt.uam.mx/coddaa/index.php/eventos', 'https://cbi.izt.uam.mx/coddaa/index.php/ceremonias', 'https://cbi.izt.uam.mx/coddaa/index.php/compu-desc', 'https://cbi.izt.uam.mx/coddaa/index.php/posgrado/ingenieria-quimica', 'https://cbi.izt.uam.mx/coddaa/index.php/posgrado/matematicas', 'https://cbi.izt.uam.mx/coddaa/index.php/posgrado/ultimas-noticias', 'https://cbi.izt.uam.mx/coddaa/index.php/eventos/carlos-graef-2020', 'https://cbi.izt.uam.mx/coddaa/index.php/posgrado/pquim', 'https://cbi.izt.uam.mx/coddaa/index.php/posgrado/fisica-medica'}\n",
      "47 {'https://cbi.izt.uam.mx/coddaa/index.php/eventos/carlos-graef', 'https://www.cseuami.org/index.php/proceso', 'https://cbi.izt.uam.mx/coddaa/index.php/descripcion', 'https://cbi.izt.uam.mx/coddaa/index.php/ie-desc', 'https://cbi.izt.uam.mx/coddaa/index.php/compu-pemc', 'https://cbi.izt.uam.mx/coddaa/index.php/ceremonias/entrega-de-reconocimientos-al-alumnado-regular', 'https://cbi.izt.uam.mx/coddaa/index.php/nuevo-ingreso', 'https://cbi.izt.uam.mx/coddaa/index.php/fisica-desc', 'https://cbi.izt.uam.mx/coddaa/index.php/vinculacion/movilidad-estudiantil', 'https://cbi.izt.uam.mx/coddaa/index.php/catm-desc', 'https://cbi.izt.uam.mx/coddaa/index.php/eventos/carlos-graef-2023', 'https://cbi.izt.uam.mx/coddaa/index.php/mate-desc', 'https://cbi.izt.uam.mx/coddaa/index.php/quim-desc', 'https://cbi.izt.uam.mx/coddaa/index.php/eventos/carlos-graef-2022', 'https://cbi.izt.uam.mx/coddaa/index.php/compu-mt', 'https://cbi.izt.uam.mx/coddaa/index.php/posgrado/matematicas-aplicadas-e-industriales', 'https://cbi.izt.uam.mx/coddaa/index.php/alumnos/legislacion-universitaria', 'https://cbi.izt.uam.mx/coddaa/index.php/compu-da', 'https://cbi.izt.uam.mx/coddaa/index.php/posgrado/energia-y-medio-ambiente', 'https://cbi.izt.uam.mx/coddaa/index.php/vinculacion/programa-de-vinculacion-profesional', 'https://cbi.izt.uam.mx/coddaa/index.php/posgrado/ciencias-y-tecnologias-de-la-informacion', 'https://cbi.izt.uam.mx/coddaa/index.php/ceremonias/egresados-enero-2023', 'http://www.izt.uam.mx/', 'https://cbi.izt.uam.mx/coddaa/index.php/posgrado/fisica', 'https://cbi.izt.uam.mx/coddaa/index.php/alumnos/tutorias', 'https://cbi.izt.uam.mx/coddaa/index.php', 'https://cbi.izt.uam.mx/coddaa/index.php/posgrado/pib', 'http://ixtamati.uam.mx:8080/sae/izt/PAWBC005.oCONSULTA?CLAVE_CL=30&VERSION_CL=8', 'https://cbi.izt.uam.mx/coddaa/index.php/ene-desc', 'https://cbi.izt.uam.mx/coddaa/index.php/eventos/carlos-graef-2021', 'https://cbi.izt.uam.mx/coddaa/index.php/ih-desc', 'https://cbi.izt.uam.mx/coddaa/index.php/home/directorio', 'https://cbi.izt.uam.mx/coddaa/index.php/alumnos/tramites', 'https://cbi.izt.uam.mx/coddaa/index.php/home/quienes-somos', 'https://cbi.izt.uam.mx/coddaa/index.php/vinculacion/emprendimiento', 'https://cbi.izt.uam.mx/coddaa/index.php/iq-desc', 'https://cbi.izt.uam.mx/coddaa/', 'https://cbi.izt.uam.mx/coddaa/index.php/pueacom', 'https://cbi.izt.uam.mx/coddaa/index.php/eventos', 'https://cbi.izt.uam.mx/coddaa/index.php/ceremonias', 'https://cbi.izt.uam.mx/coddaa/index.php/compu-desc', 'https://cbi.izt.uam.mx/coddaa/index.php/posgrado/ingenieria-quimica', 'https://cbi.izt.uam.mx/coddaa/index.php/posgrado/matematicas', 'https://cbi.izt.uam.mx/coddaa/index.php/posgrado/ultimas-noticias', 'https://cbi.izt.uam.mx/coddaa/index.php/eventos/carlos-graef-2020', 'https://cbi.izt.uam.mx/coddaa/index.php/posgrado/pquim', 'https://cbi.izt.uam.mx/coddaa/index.php/posgrado/fisica-medica'}\n"
     ]
    }
   ],
   "source": [
    "print(len(urls),urls)\n",
    "new_urls = urls - set(['https://iquizayan.uam.mx:8443/sae/izt/aewbf001.omuestraframes?mod=1', 'ejlsjfel'])\n",
    "print(len(new_urls), new_urls)"
   ]
  },
  {
   "cell_type": "code",
   "execution_count": 59,
   "metadata": {},
   "outputs": [
    {
     "name": "stdout",
     "output_type": "stream",
     "text": [
      "https://cbi.izt.uam.mx/coddaa/index.php/compu-pemc False\n"
     ]
    }
   ],
   "source": [
    "urls = set()\n",
    "tmp_patron = generador_patrones()\n",
    "pattern = re.compile(tmp_patron)\n",
    "\n",
    "for link in soup.find_all('a', href=True):   \n",
    "        \n",
    "    href = link.get('href')\n",
    "    if validators.url(href):\n",
    "        parsed_href = urlparse(href)\n",
    "        # Verificar si el enlace es relativo\n",
    "        if not parsed_href.netloc: \n",
    "            url = urljoin(base_url, href)\n",
    "        else:\n",
    "            url = href\n",
    "        # if url == \"https://cbi.izt.uam.mx/coddaa/index.php/compu-pemc#plan-de-estudios\":\n",
    "        #     print(\"\\n\\nPAGINA ENCONTRADA\\n\\n\")\n",
    "        #      raise Exception(\"PAGINA ENCONTRADA\")\n",
    "        if bool(pattern.match(url)) and not url.endswith('.jpg') and not url.endswith('.png') and not url.endswith('.jpeg'):\n",
    "            urls.add(url)\n",
    "print(base_url, base_url==\"https://cbi.izt.uam.mx/coddaa/index.php/compu-desc\")\n",
    "if base_url==\"https://cbi.izt.uam.mx/coddaa/index.php/compu-desc\":\n",
    "    print(urls)\n",
    "    raise(\"PAGINAS:::::\")\n",
    "\n"
   ]
  }
 ],
 "metadata": {
  "kernelspec": {
   "display_name": "Python 3",
   "language": "python",
   "name": "python3"
  },
  "language_info": {
   "codemirror_mode": {
    "name": "ipython",
    "version": 3
   },
   "file_extension": ".py",
   "mimetype": "text/x-python",
   "name": "python",
   "nbconvert_exporter": "python",
   "pygments_lexer": "ipython3",
   "version": "3.10.0"
  },
  "orig_nbformat": 4
 },
 "nbformat": 4,
 "nbformat_minor": 2
}
